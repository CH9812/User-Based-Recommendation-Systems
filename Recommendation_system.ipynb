{
  "metadata": {
    "kernelspec": {
      "language": "python",
      "display_name": "Python 3",
      "name": "python3"
    },
    "language_info": {
      "name": "python",
      "version": "3.10.10",
      "mimetype": "text/x-python",
      "codemirror_mode": {
        "name": "ipython",
        "version": 3
      },
      "pygments_lexer": "ipython3",
      "nbconvert_exporter": "python",
      "file_extension": ".py"
    },
    "colab": {
      "provenance": [],
      "include_colab_link": true
    }
  },
  "nbformat_minor": 0,
  "nbformat": 4,
  "cells": [
    {
      "cell_type": "markdown",
      "metadata": {
        "id": "view-in-github",
        "colab_type": "text"
      },
      "source": [
        "<a href=\"https://colab.research.google.com/github/CH9812/User-Based-Recommendation-Systems/blob/main/Recommendation_system.ipynb\" target=\"_parent\"><img src=\"https://colab.research.google.com/assets/colab-badge.svg\" alt=\"Open In Colab\"/></a>"
      ]
    },
    {
      "cell_type": "code",
      "source": [
        "import numpy as np\n",
        "import pandas as pd\n",
        "from sklearn.feature_extraction.text import TfidfVectorizer\n",
        "from sklearn.cluster import KMeans\n",
        "from sklearn.metrics.pairwise import cosine_similarity"
      ],
      "metadata": {
        "execution": {
          "iopub.status.busy": "2023-06-11T03:29:13.836707Z",
          "iopub.execute_input": "2023-06-11T03:29:13.837063Z",
          "iopub.status.idle": "2023-06-11T03:29:14.654317Z",
          "shell.execute_reply.started": "2023-06-11T03:29:13.837033Z",
          "shell.execute_reply": "2023-06-11T03:29:14.653348Z"
        },
        "trusted": true,
        "id": "5-lUQvWGzS_b"
      },
      "execution_count": null,
      "outputs": []
    },
    {
      "cell_type": "code",
      "source": [
        "df = pd.read_csv('/kaggle/input/amazon-product-reviews/Reviews.csv')"
      ],
      "metadata": {
        "execution": {
          "iopub.status.busy": "2023-06-11T03:29:14.656246Z",
          "iopub.execute_input": "2023-06-11T03:29:14.656699Z",
          "iopub.status.idle": "2023-06-11T03:29:21.278040Z",
          "shell.execute_reply.started": "2023-06-11T03:29:14.656666Z",
          "shell.execute_reply": "2023-06-11T03:29:21.277088Z"
        },
        "trusted": true,
        "id": "yZ97gcnczS_g"
      },
      "execution_count": null,
      "outputs": []
    },
    {
      "cell_type": "code",
      "source": [
        "df.head(2)"
      ],
      "metadata": {
        "execution": {
          "iopub.status.busy": "2023-06-11T03:29:21.279332Z",
          "iopub.execute_input": "2023-06-11T03:29:21.279877Z",
          "iopub.status.idle": "2023-06-11T03:29:21.299605Z",
          "shell.execute_reply.started": "2023-06-11T03:29:21.279845Z",
          "shell.execute_reply": "2023-06-11T03:29:21.298582Z"
        },
        "trusted": true,
        "id": "-WuqSbWDzS_h",
        "outputId": "575c7b66-15a0-4ddb-be89-e300789293c9"
      },
      "execution_count": null,
      "outputs": [
        {
          "execution_count": 4,
          "output_type": "execute_result",
          "data": {
            "text/plain": "   Id   ProductId          UserId ProfileName  HelpfulnessNumerator  \\\n0   1  B001E4KFG0  A3SGXH7AUHU8GW  delmartian                     1   \n1   2  B00813GRG4  A1D87F6ZCVE5NK      dll pa                     0   \n\n   HelpfulnessDenominator  Score        Time                Summary  \\\n0                       1      5  1303862400  Good Quality Dog Food   \n1                       0      1  1346976000      Not as Advertised   \n\n                                                Text  \n0  I have bought several of the Vitality canned d...  \n1  Product arrived labeled as Jumbo Salted Peanut...  ",
            "text/html": "<div>\n<style scoped>\n    .dataframe tbody tr th:only-of-type {\n        vertical-align: middle;\n    }\n\n    .dataframe tbody tr th {\n        vertical-align: top;\n    }\n\n    .dataframe thead th {\n        text-align: right;\n    }\n</style>\n<table border=\"1\" class=\"dataframe\">\n  <thead>\n    <tr style=\"text-align: right;\">\n      <th></th>\n      <th>Id</th>\n      <th>ProductId</th>\n      <th>UserId</th>\n      <th>ProfileName</th>\n      <th>HelpfulnessNumerator</th>\n      <th>HelpfulnessDenominator</th>\n      <th>Score</th>\n      <th>Time</th>\n      <th>Summary</th>\n      <th>Text</th>\n    </tr>\n  </thead>\n  <tbody>\n    <tr>\n      <th>0</th>\n      <td>1</td>\n      <td>B001E4KFG0</td>\n      <td>A3SGXH7AUHU8GW</td>\n      <td>delmartian</td>\n      <td>1</td>\n      <td>1</td>\n      <td>5</td>\n      <td>1303862400</td>\n      <td>Good Quality Dog Food</td>\n      <td>I have bought several of the Vitality canned d...</td>\n    </tr>\n    <tr>\n      <th>1</th>\n      <td>2</td>\n      <td>B00813GRG4</td>\n      <td>A1D87F6ZCVE5NK</td>\n      <td>dll pa</td>\n      <td>0</td>\n      <td>0</td>\n      <td>1</td>\n      <td>1346976000</td>\n      <td>Not as Advertised</td>\n      <td>Product arrived labeled as Jumbo Salted Peanut...</td>\n    </tr>\n  </tbody>\n</table>\n</div>"
          },
          "metadata": {}
        }
      ]
    },
    {
      "cell_type": "code",
      "source": [
        "df  = df[['Id','ProductId','Score','Summary','Text']]"
      ],
      "metadata": {
        "execution": {
          "iopub.status.busy": "2023-06-11T03:29:21.302119Z",
          "iopub.execute_input": "2023-06-11T03:29:21.302518Z",
          "iopub.status.idle": "2023-06-11T03:29:21.338501Z",
          "shell.execute_reply.started": "2023-06-11T03:29:21.302488Z",
          "shell.execute_reply": "2023-06-11T03:29:21.337574Z"
        },
        "trusted": true,
        "id": "sN_HUhLyzS_j"
      },
      "execution_count": null,
      "outputs": []
    },
    {
      "cell_type": "code",
      "source": [
        "df.head(3)"
      ],
      "metadata": {
        "execution": {
          "iopub.status.busy": "2023-06-11T03:29:21.339991Z",
          "iopub.execute_input": "2023-06-11T03:29:21.340575Z",
          "iopub.status.idle": "2023-06-11T03:29:21.354657Z",
          "shell.execute_reply.started": "2023-06-11T03:29:21.340541Z",
          "shell.execute_reply": "2023-06-11T03:29:21.353799Z"
        },
        "trusted": true,
        "id": "DfOAKQ0UzS_j",
        "outputId": "f4c97041-3780-496d-a9c3-355900184c91"
      },
      "execution_count": null,
      "outputs": [
        {
          "execution_count": 6,
          "output_type": "execute_result",
          "data": {
            "text/plain": "   Id   ProductId  Score                Summary  \\\n0   1  B001E4KFG0      5  Good Quality Dog Food   \n1   2  B00813GRG4      1      Not as Advertised   \n2   3  B000LQOCH0      4  \"Delight\" says it all   \n\n                                                Text  \n0  I have bought several of the Vitality canned d...  \n1  Product arrived labeled as Jumbo Salted Peanut...  \n2  This is a confection that has been around a fe...  ",
            "text/html": "<div>\n<style scoped>\n    .dataframe tbody tr th:only-of-type {\n        vertical-align: middle;\n    }\n\n    .dataframe tbody tr th {\n        vertical-align: top;\n    }\n\n    .dataframe thead th {\n        text-align: right;\n    }\n</style>\n<table border=\"1\" class=\"dataframe\">\n  <thead>\n    <tr style=\"text-align: right;\">\n      <th></th>\n      <th>Id</th>\n      <th>ProductId</th>\n      <th>Score</th>\n      <th>Summary</th>\n      <th>Text</th>\n    </tr>\n  </thead>\n  <tbody>\n    <tr>\n      <th>0</th>\n      <td>1</td>\n      <td>B001E4KFG0</td>\n      <td>5</td>\n      <td>Good Quality Dog Food</td>\n      <td>I have bought several of the Vitality canned d...</td>\n    </tr>\n    <tr>\n      <th>1</th>\n      <td>2</td>\n      <td>B00813GRG4</td>\n      <td>1</td>\n      <td>Not as Advertised</td>\n      <td>Product arrived labeled as Jumbo Salted Peanut...</td>\n    </tr>\n    <tr>\n      <th>2</th>\n      <td>3</td>\n      <td>B000LQOCH0</td>\n      <td>4</td>\n      <td>\"Delight\" says it all</td>\n      <td>This is a confection that has been around a fe...</td>\n    </tr>\n  </tbody>\n</table>\n</div>"
          },
          "metadata": {}
        }
      ]
    },
    {
      "cell_type": "code",
      "source": [
        "df.shape"
      ],
      "metadata": {
        "execution": {
          "iopub.status.busy": "2023-06-11T03:29:21.356007Z",
          "iopub.execute_input": "2023-06-11T03:29:21.356458Z",
          "iopub.status.idle": "2023-06-11T03:29:21.363862Z",
          "shell.execute_reply.started": "2023-06-11T03:29:21.356427Z",
          "shell.execute_reply": "2023-06-11T03:29:21.362807Z"
        },
        "trusted": true,
        "id": "Wahjw7KGzS_k",
        "outputId": "c28e3c43-bf2c-4c0a-b5a4-01bbf403543d"
      },
      "execution_count": null,
      "outputs": [
        {
          "execution_count": 7,
          "output_type": "execute_result",
          "data": {
            "text/plain": "(568454, 5)"
          },
          "metadata": {}
        }
      ]
    },
    {
      "cell_type": "code",
      "source": [
        "df = df.iloc[:10000,:]"
      ],
      "metadata": {
        "execution": {
          "iopub.status.busy": "2023-06-11T03:29:21.365608Z",
          "iopub.execute_input": "2023-06-11T03:29:21.366154Z",
          "iopub.status.idle": "2023-06-11T03:29:21.371894Z",
          "shell.execute_reply.started": "2023-06-11T03:29:21.366120Z",
          "shell.execute_reply": "2023-06-11T03:29:21.370792Z"
        },
        "trusted": true,
        "id": "8zkA3SetzS_l"
      },
      "execution_count": null,
      "outputs": []
    },
    {
      "cell_type": "code",
      "source": [
        "df['Score'].value_counts().plot(kind='bar')"
      ],
      "metadata": {
        "execution": {
          "iopub.status.busy": "2023-06-11T03:29:21.373127Z",
          "iopub.execute_input": "2023-06-11T03:29:21.374238Z",
          "iopub.status.idle": "2023-06-11T03:29:21.653575Z",
          "shell.execute_reply.started": "2023-06-11T03:29:21.374180Z",
          "shell.execute_reply": "2023-06-11T03:29:21.652297Z"
        },
        "trusted": true,
        "id": "aJw-Z1hbzS_m",
        "outputId": "285494e9-79f2-4938-a6a3-b6638dfdd09d"
      },
      "execution_count": null,
      "outputs": [
        {
          "execution_count": 9,
          "output_type": "execute_result",
          "data": {
            "text/plain": "<Axes: >"
          },
          "metadata": {}
        },
        {
          "output_type": "display_data",
          "data": {
            "text/plain": "<Figure size 640x480 with 1 Axes>",
            "image/png": "[encoded data removed]"
          },
          "metadata": {}
        }
      ]
    },
    {
      "cell_type": "code",
      "source": [
        "df['Summary']"
      ],
      "metadata": {
        "execution": {
          "iopub.status.busy": "2023-06-11T03:29:21.654994Z",
          "iopub.execute_input": "2023-06-11T03:29:21.655594Z",
          "iopub.status.idle": "2023-06-11T03:29:21.674879Z",
          "shell.execute_reply.started": "2023-06-11T03:29:21.655558Z",
          "shell.execute_reply": "2023-06-11T03:29:21.673670Z"
        },
        "trusted": true,
        "id": "9MNyDpe0zS_m",
        "outputId": "bf1b52ec-1eab-4b17-e043-696dd9242f31"
      },
      "execution_count": null,
      "outputs": [
        {
          "execution_count": 10,
          "output_type": "execute_result",
          "data": {
            "text/plain": "0                  Good Quality Dog Food\n1                      Not as Advertised\n2                  \"Delight\" says it all\n3                         Cough Medicine\n4                            Great taffy\n                      ...               \n9995                        constipation\n9996    Constipation Not A Problem if...\n9997                  Love this formula!\n9998                     very convenient\n9999          The best weve tried so far\nName: Summary, Length: 10000, dtype: object"
          },
          "metadata": {}
        }
      ]
    },
    {
      "cell_type": "code",
      "source": [
        "df['Text'][0]"
      ],
      "metadata": {
        "execution": {
          "iopub.status.busy": "2023-06-11T03:29:21.679179Z",
          "iopub.execute_input": "2023-06-11T03:29:21.679772Z",
          "iopub.status.idle": "2023-06-11T03:29:21.696876Z",
          "shell.execute_reply.started": "2023-06-11T03:29:21.679738Z",
          "shell.execute_reply": "2023-06-11T03:29:21.689356Z"
        },
        "trusted": true,
        "id": "kuUi7vDAzS_n",
        "outputId": "135449aa-320c-4064-a37c-2cc088058698"
      },
      "execution_count": null,
      "outputs": [
        {
          "execution_count": 11,
          "output_type": "execute_result",
          "data": {
            "text/plain": "'I have bought several of the Vitality canned dog food products and have found them all to be of good quality. The product looks more like a stew than a processed meat and it smells better. My Labrador is finicky and she appreciates this product better than  most.'"
          },
          "metadata": {}
        }
      ]
    },
    {
      "cell_type": "markdown",
      "source": [
        "## Rating Base Recommendation system"
      ],
      "metadata": {
        "id": "pFOXaUawzS_o"
      }
    },
    {
      "cell_type": "code",
      "source": [
        "# Select the required columns for recommendation\n",
        "ratings_df = df[['Id', 'ProductId', 'Score']]\n",
        "ratings_df"
      ],
      "metadata": {
        "execution": {
          "iopub.status.busy": "2023-06-11T03:29:21.699247Z",
          "iopub.execute_input": "2023-06-11T03:29:21.701262Z",
          "iopub.status.idle": "2023-06-11T03:29:21.731522Z",
          "shell.execute_reply.started": "2023-06-11T03:29:21.701223Z",
          "shell.execute_reply": "2023-06-11T03:29:21.730538Z"
        },
        "trusted": true,
        "id": "yPBeL8ZhzS_p",
        "outputId": "6ac1b723-cc82-4861-bb76-f21a1766b93b"
      },
      "execution_count": null,
      "outputs": [
        {
          "execution_count": 12,
          "output_type": "execute_result",
          "data": {
            "text/plain": "         Id   ProductId  Score\n0         1  B001E4KFG0      5\n1         2  B00813GRG4      1\n2         3  B000LQOCH0      4\n3         4  B000UA0QIQ      2\n4         5  B006K2ZZ7K      5\n...     ...         ...    ...\n9995   9996  B000P41A28      1\n9996   9997  B000P41A28      5\n9997   9998  B000P41A28      5\n9998   9999  B000P41A28      5\n9999  10000  B000P41A28      4\n\n[10000 rows x 3 columns]",
            "text/html": "<div>\n<style scoped>\n    .dataframe tbody tr th:only-of-type {\n        vertical-align: middle;\n    }\n\n    .dataframe tbody tr th {\n        vertical-align: top;\n    }\n\n    .dataframe thead th {\n        text-align: right;\n    }\n</style>\n<table border=\"1\" class=\"dataframe\">\n  <thead>\n    <tr style=\"text-align: right;\">\n      <th></th>\n      <th>Id</th>\n      <th>ProductId</th>\n      <th>Score</th>\n    </tr>\n  </thead>\n  <tbody>\n    <tr>\n      <th>0</th>\n      <td>1</td>\n      <td>B001E4KFG0</td>\n      <td>5</td>\n    </tr>\n    <tr>\n      <th>1</th>\n      <td>2</td>\n      <td>B00813GRG4</td>\n      <td>1</td>\n    </tr>\n    <tr>\n      <th>2</th>\n      <td>3</td>\n      <td>B000LQOCH0</td>\n      <td>4</td>\n    </tr>\n    <tr>\n      <th>3</th>\n      <td>4</td>\n      <td>B000UA0QIQ</td>\n      <td>2</td>\n    </tr>\n    <tr>\n      <th>4</th>\n      <td>5</td>\n      <td>B006K2ZZ7K</td>\n      <td>5</td>\n    </tr>\n    <tr>\n      <th>...</th>\n      <td>...</td>\n      <td>...</td>\n      <td>...</td>\n    </tr>\n    <tr>\n      <th>9995</th>\n      <td>9996</td>\n      <td>B000P41A28</td>\n      <td>1</td>\n    </tr>\n    <tr>\n      <th>9996</th>\n      <td>9997</td>\n      <td>B000P41A28</td>\n      <td>5</td>\n    </tr>\n    <tr>\n      <th>9997</th>\n      <td>9998</td>\n      <td>B000P41A28</td>\n      <td>5</td>\n    </tr>\n    <tr>\n      <th>9998</th>\n      <td>9999</td>\n      <td>B000P41A28</td>\n      <td>5</td>\n    </tr>\n    <tr>\n      <th>9999</th>\n      <td>10000</td>\n      <td>B000P41A28</td>\n      <td>4</td>\n    </tr>\n  </tbody>\n</table>\n<p>10000 rows × 3 columns</p>\n</div>"
          },
          "metadata": {}
        }
      ]
    },
    {
      "cell_type": "markdown",
      "source": [
        "# Create a pivot table to represent the user-item rating matrix\n",
        "\n",
        "In a rating-based recommendation system, a pivot table is created to represent the user-item rating matrix. This matrix captures the ratings given by users to different items/products. Each row in the pivot table represents a user, and each column represents an item/product"
      ],
      "metadata": {
        "id": "AT9tFP7MzS_q"
      }
    },
    {
      "cell_type": "code",
      "source": [
        "pivot_table = ratings_df.pivot_table(index='Id', columns='ProductId', values='Score', fill_value=0)"
      ],
      "metadata": {
        "execution": {
          "iopub.status.busy": "2023-06-11T03:29:21.732850Z",
          "iopub.execute_input": "2023-06-11T03:29:21.736509Z",
          "iopub.status.idle": "2023-06-11T03:29:22.689766Z",
          "shell.execute_reply.started": "2023-06-11T03:29:21.736477Z",
          "shell.execute_reply": "2023-06-11T03:29:22.688802Z"
        },
        "trusted": true,
        "id": "tazGs1G0zS_q"
      },
      "execution_count": null,
      "outputs": []
    },
    {
      "cell_type": "code",
      "source": [
        "pivot_table"
      ],
      "metadata": {
        "execution": {
          "iopub.status.busy": "2023-06-11T03:29:22.691160Z",
          "iopub.execute_input": "2023-06-11T03:29:22.692869Z",
          "iopub.status.idle": "2023-06-11T03:29:22.718815Z",
          "shell.execute_reply.started": "2023-06-11T03:29:22.692833Z",
          "shell.execute_reply": "2023-06-11T03:29:22.717881Z"
        },
        "trusted": true,
        "id": "kv2fztQ6zS_q",
        "outputId": "1878bda9-fcb5-4bed-80c3-b2ebea51bec3"
      },
      "execution_count": null,
      "outputs": [
        {
          "execution_count": 14,
          "output_type": "execute_result",
          "data": {
            "text/plain": "ProductId  B00002NCJC  B00002Z754  B00005V3DC  B000084DVR  B000084E1U  \\\nId                                                                      \n1                   0           0           0           0           0   \n2                   0           0           0           0           0   \n3                   0           0           0           0           0   \n4                   0           0           0           0           0   \n5                   0           0           0           0           0   \n...               ...         ...         ...         ...         ...   \n9996                0           0           0           0           0   \n9997                0           0           0           0           0   \n9998                0           0           0           0           0   \n9999                0           0           0           0           0   \n10000               0           0           0           0           0   \n\nProductId  B000084EK4  B000084EK5  B000084EK6  B000084EK7  B000084EK8  ...  \\\nId                                                                     ...   \n1                   0           0           0           0           0  ...   \n2                   0           0           0           0           0  ...   \n3                   0           0           0           0           0  ...   \n4                   0           0           0           0           0  ...   \n5                   0           0           0           0           0  ...   \n...               ...         ...         ...         ...         ...  ...   \n9996                0           0           0           0           0  ...   \n9997                0           0           0           0           0  ...   \n9998                0           0           0           0           0  ...   \n9999                0           0           0           0           0  ...   \n10000               0           0           0           0           0  ...   \n\nProductId  B0092XAMDQ  B0093NIWVO  B00959DMWK  B00961CUXO  B0096E5196  \\\nId                                                                      \n1                   0           0           0           0           0   \n2                   0           0           0           0           0   \n3                   0           0           0           0           0   \n4                   0           0           0           0           0   \n5                   0           0           0           0           0   \n...               ...         ...         ...         ...         ...   \n9996                0           0           0           0           0   \n9997                0           0           0           0           0   \n9998                0           0           0           0           0   \n9999                0           0           0           0           0   \n10000               0           0           0           0           0   \n\nProductId  B009AVDFCK  B009D668KS  B009HINRX8  B009UOFU20  B009WSNWC4  \nId                                                                     \n1                   0           0           0           0           0  \n2                   0           0           0           0           0  \n3                   0           0           0           0           0  \n4                   0           0           0           0           0  \n5                   0           0           0           0           0  \n...               ...         ...         ...         ...         ...  \n9996                0           0           0           0           0  \n9997                0           0           0           0           0  \n9998                0           0           0           0           0  \n9999                0           0           0           0           0  \n10000               0           0           0           0           0  \n\n[10000 rows x 1422 columns]",
            "text/html": "<div>\n<style scoped>\n    .dataframe tbody tr th:only-of-type {\n        vertical-align: middle;\n    }\n\n    .dataframe tbody tr th {\n        vertical-align: top;\n    }\n\n    .dataframe thead th {\n        text-align: right;\n    }\n</style>\n<table border=\"1\" class=\"dataframe\">\n  <thead>\n    <tr style=\"text-align: right;\">\n      <th>ProductId</th>\n      <th>B00002NCJC</th>\n      <th>B00002Z754</th>\n      <th>B00005V3DC</th>\n      <th>B000084DVR</th>\n      <th>B000084E1U</th>\n      <th>B000084EK4</th>\n      <th>B000084EK5</th>\n      <th>B000084EK6</th>\n      <th>B000084EK7</th>\n      <th>B000084EK8</th>\n      <th>...</th>\n      <th>B0092XAMDQ</th>\n      <th>B0093NIWVO</th>\n      <th>B00959DMWK</th>\n      <th>B00961CUXO</th>\n      <th>B0096E5196</th>\n      <th>B009AVDFCK</th>\n      <th>B009D668KS</th>\n      <th>B009HINRX8</th>\n      <th>B009UOFU20</th>\n      <th>B009WSNWC4</th>\n    </tr>\n    <tr>\n      <th>Id</th>\n      <th></th>\n      <th></th>\n      <th></th>\n      <th></th>\n      <th></th>\n      <th></th>\n      <th></th>\n      <th></th>\n      <th></th>\n      <th></th>\n      <th></th>\n      <th></th>\n      <th></th>\n      <th></th>\n      <th></th>\n      <th></th>\n      <th></th>\n      <th></th>\n      <th></th>\n      <th></th>\n      <th></th>\n    </tr>\n  </thead>\n  <tbody>\n    <tr>\n      <th>1</th>\n      <td>0</td>\n      <td>0</td>\n      <td>0</td>\n      <td>0</td>\n      <td>0</td>\n      <td>0</td>\n      <td>0</td>\n      <td>0</td>\n      <td>0</td>\n      <td>0</td>\n      <td>...</td>\n      <td>0</td>\n      <td>0</td>\n      <td>0</td>\n      <td>0</td>\n      <td>0</td>\n      <td>0</td>\n      <td>0</td>\n      <td>0</td>\n      <td>0</td>\n      <td>0</td>\n    </tr>\n    <tr>\n      <th>2</th>\n      <td>0</td>\n      <td>0</td>\n      <td>0</td>\n      <td>0</td>\n      <td>0</td>\n      <td>0</td>\n      <td>0</td>\n      <td>0</td>\n      <td>0</td>\n      <td>0</td>\n      <td>...</td>\n      <td>0</td>\n      <td>0</td>\n      <td>0</td>\n      <td>0</td>\n      <td>0</td>\n      <td>0</td>\n      <td>0</td>\n      <td>0</td>\n      <td>0</td>\n      <td>0</td>\n    </tr>\n    <tr>\n      <th>3</th>\n      <td>0</td>\n      <td>0</td>\n      <td>0</td>\n      <td>0</td>\n      <td>0</td>\n      <td>0</td>\n      <td>0</td>\n      <td>0</td>\n      <td>0</td>\n      <td>0</td>\n      <td>...</td>\n      <td>0</td>\n      <td>0</td>\n      <td>0</td>\n      <td>0</td>\n      <td>0</td>\n      <td>0</td>\n      <td>0</td>\n      <td>0</td>\n      <td>0</td>\n      <td>0</td>\n    </tr>\n    <tr>\n      <th>4</th>\n      <td>0</td>\n      <td>0</td>\n      <td>0</td>\n      <td>0</td>\n      <td>0</td>\n      <td>0</td>\n      <td>0</td>\n      <td>0</td>\n      <td>0</td>\n      <td>0</td>\n      <td>...</td>\n      <td>0</td>\n      <td>0</td>\n      <td>0</td>\n      <td>0</td>\n      <td>0</td>\n      <td>0</td>\n      <td>0</td>\n      <td>0</td>\n      <td>0</td>\n      <td>0</td>\n    </tr>\n    <tr>\n      <th>5</th>\n      <td>0</td>\n      <td>0</td>\n      <td>0</td>\n      <td>0</td>\n      <td>0</td>\n      <td>0</td>\n      <td>0</td>\n      <td>0</td>\n      <td>0</td>\n      <td>0</td>\n      <td>...</td>\n      <td>0</td>\n      <td>0</td>\n      <td>0</td>\n      <td>0</td>\n      <td>0</td>\n      <td>0</td>\n      <td>0</td>\n      <td>0</td>\n      <td>0</td>\n      <td>0</td>\n    </tr>\n    <tr>\n      <th>...</th>\n      <td>...</td>\n      <td>...</td>\n      <td>...</td>\n      <td>...</td>\n      <td>...</td>\n      <td>...</td>\n      <td>...</td>\n      <td>...</td>\n      <td>...</td>\n      <td>...</td>\n      <td>...</td>\n      <td>...</td>\n      <td>...</td>\n      <td>...</td>\n      <td>...</td>\n      <td>...</td>\n      <td>...</td>\n      <td>...</td>\n      <td>...</td>\n      <td>...</td>\n      <td>...</td>\n    </tr>\n    <tr>\n      <th>9996</th>\n      <td>0</td>\n      <td>0</td>\n      <td>0</td>\n      <td>0</td>\n      <td>0</td>\n      <td>0</td>\n      <td>0</td>\n      <td>0</td>\n      <td>0</td>\n      <td>0</td>\n      <td>...</td>\n      <td>0</td>\n      <td>0</td>\n      <td>0</td>\n      <td>0</td>\n      <td>0</td>\n      <td>0</td>\n      <td>0</td>\n      <td>0</td>\n      <td>0</td>\n      <td>0</td>\n    </tr>\n    <tr>\n      <th>9997</th>\n      <td>0</td>\n      <td>0</td>\n      <td>0</td>\n      <td>0</td>\n      <td>0</td>\n      <td>0</td>\n      <td>0</td>\n      <td>0</td>\n      <td>0</td>\n      <td>0</td>\n      <td>...</td>\n      <td>0</td>\n      <td>0</td>\n      <td>0</td>\n      <td>0</td>\n      <td>0</td>\n      <td>0</td>\n      <td>0</td>\n      <td>0</td>\n      <td>0</td>\n      <td>0</td>\n    </tr>\n    <tr>\n      <th>9998</th>\n      <td>0</td>\n      <td>0</td>\n      <td>0</td>\n      <td>0</td>\n      <td>0</td>\n      <td>0</td>\n      <td>0</td>\n      <td>0</td>\n      <td>0</td>\n      <td>0</td>\n      <td>...</td>\n      <td>0</td>\n      <td>0</td>\n      <td>0</td>\n      <td>0</td>\n      <td>0</td>\n      <td>0</td>\n      <td>0</td>\n      <td>0</td>\n      <td>0</td>\n      <td>0</td>\n    </tr>\n    <tr>\n      <th>9999</th>\n      <td>0</td>\n      <td>0</td>\n      <td>0</td>\n      <td>0</td>\n      <td>0</td>\n      <td>0</td>\n      <td>0</td>\n      <td>0</td>\n      <td>0</td>\n      <td>0</td>\n      <td>...</td>\n      <td>0</td>\n      <td>0</td>\n      <td>0</td>\n      <td>0</td>\n      <td>0</td>\n      <td>0</td>\n      <td>0</td>\n      <td>0</td>\n      <td>0</td>\n      <td>0</td>\n    </tr>\n    <tr>\n      <th>10000</th>\n      <td>0</td>\n      <td>0</td>\n      <td>0</td>\n      <td>0</td>\n      <td>0</td>\n      <td>0</td>\n      <td>0</td>\n      <td>0</td>\n      <td>0</td>\n      <td>0</td>\n      <td>...</td>\n      <td>0</td>\n      <td>0</td>\n      <td>0</td>\n      <td>0</td>\n      <td>0</td>\n      <td>0</td>\n      <td>0</td>\n      <td>0</td>\n      <td>0</td>\n      <td>0</td>\n    </tr>\n  </tbody>\n</table>\n<p>10000 rows × 1422 columns</p>\n</div>"
          },
          "metadata": {}
        }
      ]
    },
    {
      "cell_type": "code",
      "source": [
        "items_similarity = cosine_similarity(pivot_table)"
      ],
      "metadata": {
        "execution": {
          "iopub.status.busy": "2023-06-11T03:29:22.720239Z",
          "iopub.execute_input": "2023-06-11T03:29:22.720722Z",
          "iopub.status.idle": "2023-06-11T03:29:26.209971Z",
          "shell.execute_reply.started": "2023-06-11T03:29:22.720686Z",
          "shell.execute_reply": "2023-06-11T03:29:26.208978Z"
        },
        "trusted": true,
        "id": "LxjxfMxFzS_r"
      },
      "execution_count": null,
      "outputs": []
    },
    {
      "cell_type": "code",
      "source": [
        "# Example: Get top-k recommendations for a given user\n",
        "user_id = 4\n",
        "k = 5"
      ],
      "metadata": {
        "execution": {
          "iopub.status.busy": "2023-06-11T03:29:26.211467Z",
          "iopub.execute_input": "2023-06-11T03:29:26.211830Z",
          "iopub.status.idle": "2023-06-11T03:29:26.217166Z",
          "shell.execute_reply.started": "2023-06-11T03:29:26.211798Z",
          "shell.execute_reply": "2023-06-11T03:29:26.216302Z"
        },
        "trusted": true,
        "id": "2qH6-UcCzS_r"
      },
      "execution_count": null,
      "outputs": []
    },
    {
      "cell_type": "code",
      "source": [
        "user_ratings = pivot_table.loc[user_id,:].values.reshape(1,-1)\n",
        "user_ratings"
      ],
      "metadata": {
        "execution": {
          "iopub.status.busy": "2023-06-11T03:29:26.218487Z",
          "iopub.execute_input": "2023-06-11T03:29:26.219313Z",
          "iopub.status.idle": "2023-06-11T03:29:26.231512Z",
          "shell.execute_reply.started": "2023-06-11T03:29:26.219280Z",
          "shell.execute_reply": "2023-06-11T03:29:26.230457Z"
        },
        "trusted": true,
        "id": "G6csVgpNzS_r",
        "outputId": "36c371a6-9713-4379-e4b3-dc8cc9ddadcd"
      },
      "execution_count": null,
      "outputs": [
        {
          "execution_count": 17,
          "output_type": "execute_result",
          "data": {
            "text/plain": "array([[0, 0, 0, ..., 0, 0, 0]])"
          },
          "metadata": {}
        }
      ]
    },
    {
      "cell_type": "code",
      "source": [
        "# Calculate the similarity between the user's ratings and all items\n",
        "user_item_similarity = cosine_similarity(user_ratings,pivot_table)"
      ],
      "metadata": {
        "execution": {
          "iopub.status.busy": "2023-06-11T03:29:26.232886Z",
          "iopub.execute_input": "2023-06-11T03:29:26.233482Z",
          "iopub.status.idle": "2023-06-11T03:29:26.368350Z",
          "shell.execute_reply.started": "2023-06-11T03:29:26.233445Z",
          "shell.execute_reply": "2023-06-11T03:29:26.366887Z"
        },
        "trusted": true,
        "id": "hQr3OEEjzS_r"
      },
      "execution_count": null,
      "outputs": []
    },
    {
      "cell_type": "code",
      "source": [
        "# Get the indices of top-k similar items\n",
        "similar_item_indices = user_item_similarity.argsort()[0, ::-1][:k]"
      ],
      "metadata": {
        "execution": {
          "iopub.status.busy": "2023-06-11T03:29:26.369806Z",
          "iopub.execute_input": "2023-06-11T03:29:26.370395Z",
          "iopub.status.idle": "2023-06-11T03:29:26.375793Z",
          "shell.execute_reply.started": "2023-06-11T03:29:26.370360Z",
          "shell.execute_reply": "2023-06-11T03:29:26.374271Z"
        },
        "trusted": true,
        "id": "2mNYNwlvzS_s"
      },
      "execution_count": null,
      "outputs": []
    },
    {
      "cell_type": "code",
      "source": [
        "similar_item_indices"
      ],
      "metadata": {
        "execution": {
          "iopub.status.busy": "2023-06-11T03:29:26.377007Z",
          "iopub.execute_input": "2023-06-11T03:29:26.377374Z",
          "iopub.status.idle": "2023-06-11T03:29:26.389860Z",
          "shell.execute_reply.started": "2023-06-11T03:29:26.377338Z",
          "shell.execute_reply": "2023-06-11T03:29:26.388576Z"
        },
        "trusted": true,
        "id": "9wUtJUMbzS_s",
        "outputId": "b71dd3fa-db07-4df5-b6ad-ca367bcce096"
      },
      "execution_count": null,
      "outputs": [
        {
          "execution_count": 20,
          "output_type": "execute_result",
          "data": {
            "text/plain": "array([   3, 9999, 3330, 3337, 3336])"
          },
          "metadata": {}
        }
      ]
    },
    {
      "cell_type": "markdown",
      "source": [
        "# Drive Code With Recommendation"
      ],
      "metadata": {
        "id": "_wybqB5KzS_s"
      }
    },
    {
      "cell_type": "code",
      "source": [
        "def recommend_items(ratings_df):\n",
        "    # Filter recommendations based on minimum rating\n",
        "    filtered_recommendations = ratings_df[ratings_df['Score'] >= 3].head(50)\n",
        "\n",
        "    return filtered_recommendations\n",
        "\n",
        "\n",
        "recommendations = recommend_items(ratings_df)\n",
        "\n",
        "if not recommendations.empty:\n",
        "    for index, row in recommendations.iterrows():\n",
        "        print(\"Product ID:\", row['ProductId'], \"Score:\", row['Score'])\n",
        "else:\n",
        "    print(\"No recommendations found.\")\n"
      ],
      "metadata": {
        "execution": {
          "iopub.status.busy": "2023-06-11T03:29:54.896134Z",
          "iopub.execute_input": "2023-06-11T03:29:54.896515Z",
          "iopub.status.idle": "2023-06-11T03:29:54.911749Z",
          "shell.execute_reply.started": "2023-06-11T03:29:54.896474Z",
          "shell.execute_reply": "2023-06-11T03:29:54.910673Z"
        },
        "trusted": true,
        "id": "5gJlOmlBzS_s",
        "outputId": "a9e006d1-445c-40c0-e928-390c62df3426"
      },
      "execution_count": null,
      "outputs": [
        {
          "name": "stdout",
          "text": "Product ID: B001E4KFG0 Score: 5\nProduct ID: B000LQOCH0 Score: 4\nProduct ID: B006K2ZZ7K Score: 5\nProduct ID: B006K2ZZ7K Score: 4\nProduct ID: B006K2ZZ7K Score: 5\nProduct ID: B006K2ZZ7K Score: 5\nProduct ID: B000E7L2R4 Score: 5\nProduct ID: B00171APVA Score: 5\nProduct ID: B0001PB9FE Score: 5\nProduct ID: B0009XLVG0 Score: 5\nProduct ID: B001GVISJM Score: 4\nProduct ID: B001GVISJM Score: 5\nProduct ID: B001GVISJM Score: 5\nProduct ID: B001GVISJM Score: 5\nProduct ID: B001GVISJM Score: 5\nProduct ID: B001GVISJM Score: 5\nProduct ID: B001GVISJM Score: 5\nProduct ID: B001GVISJM Score: 5\nProduct ID: B001GVISJM Score: 5\nProduct ID: B001GVISJM Score: 5\nProduct ID: B001GVISJM Score: 5\nProduct ID: B001GVISJM Score: 5\nProduct ID: B001GVISJM Score: 4\nProduct ID: B00144C10S Score: 5\nProduct ID: B0001PB9FY Score: 5\nProduct ID: B003F6UO7K Score: 5\nProduct ID: B003F6UO7K Score: 5\nProduct ID: B001EO5QW8 Score: 4\nProduct ID: B001EO5QW8 Score: 4\nProduct ID: B001EO5QW8 Score: 5\nProduct ID: B001EO5QW8 Score: 4\nProduct ID: B001EO5QW8 Score: 5\nProduct ID: B001EO5QW8 Score: 5\nProduct ID: B001EO5QW8 Score: 4\nProduct ID: B001EO5QW8 Score: 5\nProduct ID: B001EO5QW8 Score: 5\nProduct ID: B001EO5QW8 Score: 5\nProduct ID: B001EO5QW8 Score: 5\nProduct ID: B001EO5QW8 Score: 5\nProduct ID: B001EO5QW8 Score: 5\nProduct ID: B001EO5QW8 Score: 3\nProduct ID: B001EO5QW8 Score: 5\nProduct ID: B001EO5QW8 Score: 3\nProduct ID: B001EO5QW8 Score: 4\nProduct ID: B001EO5QW8 Score: 3\nProduct ID: B000G6RPMY Score: 5\nProduct ID: B000G6RPMY Score: 4\nProduct ID: B000G6RPMY Score: 3\nProduct ID: B002GWHC0G Score: 4\nProduct ID: B002GWHC0G Score: 5\n",
          "output_type": "stream"
        }
      ]
    },
    {
      "cell_type": "code",
      "source": [
        "ratings_df"
      ],
      "metadata": {
        "execution": {
          "iopub.status.busy": "2023-06-11T03:29:26.408561Z",
          "iopub.execute_input": "2023-06-11T03:29:26.408956Z",
          "iopub.status.idle": "2023-06-11T03:29:26.427785Z",
          "shell.execute_reply.started": "2023-06-11T03:29:26.408919Z",
          "shell.execute_reply": "2023-06-11T03:29:26.426687Z"
        },
        "trusted": true,
        "id": "IKuO7s7xzS_t",
        "outputId": "d904cc93-e797-4d86-aafd-c19f9bc712ce"
      },
      "execution_count": null,
      "outputs": [
        {
          "execution_count": 22,
          "output_type": "execute_result",
          "data": {
            "text/plain": "         Id   ProductId  Score\n0         1  B001E4KFG0      5\n1         2  B00813GRG4      1\n2         3  B000LQOCH0      4\n3         4  B000UA0QIQ      2\n4         5  B006K2ZZ7K      5\n...     ...         ...    ...\n9995   9996  B000P41A28      1\n9996   9997  B000P41A28      5\n9997   9998  B000P41A28      5\n9998   9999  B000P41A28      5\n9999  10000  B000P41A28      4\n\n[10000 rows x 3 columns]",
            "text/html": "<div>\n<style scoped>\n    .dataframe tbody tr th:only-of-type {\n        vertical-align: middle;\n    }\n\n    .dataframe tbody tr th {\n        vertical-align: top;\n    }\n\n    .dataframe thead th {\n        text-align: right;\n    }\n</style>\n<table border=\"1\" class=\"dataframe\">\n  <thead>\n    <tr style=\"text-align: right;\">\n      <th></th>\n      <th>Id</th>\n      <th>ProductId</th>\n      <th>Score</th>\n    </tr>\n  </thead>\n  <tbody>\n    <tr>\n      <th>0</th>\n      <td>1</td>\n      <td>B001E4KFG0</td>\n      <td>5</td>\n    </tr>\n    <tr>\n      <th>1</th>\n      <td>2</td>\n      <td>B00813GRG4</td>\n      <td>1</td>\n    </tr>\n    <tr>\n      <th>2</th>\n      <td>3</td>\n      <td>B000LQOCH0</td>\n      <td>4</td>\n    </tr>\n    <tr>\n      <th>3</th>\n      <td>4</td>\n      <td>B000UA0QIQ</td>\n      <td>2</td>\n    </tr>\n    <tr>\n      <th>4</th>\n      <td>5</td>\n      <td>B006K2ZZ7K</td>\n      <td>5</td>\n    </tr>\n    <tr>\n      <th>...</th>\n      <td>...</td>\n      <td>...</td>\n      <td>...</td>\n    </tr>\n    <tr>\n      <th>9995</th>\n      <td>9996</td>\n      <td>B000P41A28</td>\n      <td>1</td>\n    </tr>\n    <tr>\n      <th>9996</th>\n      <td>9997</td>\n      <td>B000P41A28</td>\n      <td>5</td>\n    </tr>\n    <tr>\n      <th>9997</th>\n      <td>9998</td>\n      <td>B000P41A28</td>\n      <td>5</td>\n    </tr>\n    <tr>\n      <th>9998</th>\n      <td>9999</td>\n      <td>B000P41A28</td>\n      <td>5</td>\n    </tr>\n    <tr>\n      <th>9999</th>\n      <td>10000</td>\n      <td>B000P41A28</td>\n      <td>4</td>\n    </tr>\n  </tbody>\n</table>\n<p>10000 rows × 3 columns</p>\n</div>"
          },
          "metadata": {}
        }
      ]
    },
    {
      "cell_type": "markdown",
      "source": [
        "# Rating Base using Kmeans clutering"
      ],
      "metadata": {
        "id": "Fe3J9EBvzS_t"
      }
    },
    {
      "cell_type": "code",
      "source": [
        "import pandas as pd\n",
        "from sklearn.cluster import KMeans\n",
        "\n",
        "# # Load the dataset\n",
        "# # df = pd.read_csv('your_dataset.csv')\n",
        "\n",
        "# # Select the required columns for recommendation\n",
        "# ratings_df = df[['Id', 'ProductId', 'Score']]\n",
        "\n",
        "# Create a pivot table to represent the user-item rating matrix\n",
        "# pivot_table = ratings_df.pivot_table(index='Id', columns='ProductId', values='Score', fill_value=0)\n",
        "\n",
        "# Apply k-means clustering\n",
        "num_clusters = 5  # Choose the number of clusters\n",
        "kmeans = KMeans(n_clusters=num_clusters, random_state=42)\n",
        "cluster_labels = kmeans.fit_predict(pivot_table)\n",
        "\n",
        "# Example: Get recommendations for a given user\n",
        "user_id = 1\n",
        "\n",
        "# Get the cluster label for the given user\n",
        "user_cluster_label = cluster_labels[user_id - 1]\n",
        "\n",
        "# Get all users in the same cluster as the given user\n",
        "users_in_same_cluster = pivot_table.index[cluster_labels == user_cluster_label]\n",
        "\n",
        "# Get the average ratings of the users in the same cluster\n",
        "average_ratings = pivot_table.loc[users_in_same_cluster].mean()\n",
        "\n",
        "# Sort the average ratings in descending order\n",
        "sorted_ratings = average_ratings.sort_values(ascending=False)\n",
        "\n",
        "# Example: Get top-k recommendations\n",
        "k = 5\n",
        "top_k_recommendations = sorted_ratings.head(k)\n",
        "\n",
        "# Print the top-k recommendations\n",
        "print(\"Top\", k, \"recommendations for user\", user_id, \":\")\n",
        "for product_id, rating in top_k_recommendations.items():\n",
        "    print(\"Product ID:\", product_id, \"Rating:\", rating)\n"
      ],
      "metadata": {
        "execution": {
          "iopub.status.busy": "2023-06-11T03:29:26.429113Z",
          "iopub.execute_input": "2023-06-11T03:29:26.430121Z",
          "iopub.status.idle": "2023-06-11T03:29:29.586655Z",
          "shell.execute_reply.started": "2023-06-11T03:29:26.430081Z",
          "shell.execute_reply": "2023-06-11T03:29:29.585548Z"
        },
        "trusted": true,
        "id": "1ccBj-xNzS_t",
        "outputId": "1f533777-a7c8-4c40-ec10-d91ee26e5bc6"
      },
      "execution_count": null,
      "outputs": [
        {
          "name": "stderr",
          "text": "/opt/conda/lib/python3.10/site-packages/sklearn/cluster/_kmeans.py:870: FutureWarning: The default value of `n_init` will change from 10 to 'auto' in 1.4. Set the value of `n_init` explicitly to suppress the warning\n  warnings.warn(\n",
          "output_type": "stream"
        },
        {
          "name": "stdout",
          "text": "Top 5 recommendations for user 1 :\nProduct ID: B003VXFK44 Rating: 0.19659527732015375\nProduct ID: B001RVFDOO Rating: 0.14805052169137836\nProduct ID: B005K4Q1VI Rating: 0.14091158704008785\nProduct ID: B004391DK0 Rating: 0.10971993410214168\nProduct ID: B000G6RYNE Rating: 0.0956617243272927\n",
          "output_type": "stream"
        }
      ]
    },
    {
      "cell_type": "markdown",
      "source": [
        "# User Base recommendation system"
      ],
      "metadata": {
        "id": "dyqdz8l-zS_u"
      }
    },
    {
      "cell_type": "code",
      "source": [
        "import pandas as pd\n",
        "from sklearn.metrics.pairwise import cosine_similarity\n",
        "\n",
        "# Load the dataset into a pandas DataFrame\n",
        "data = pd.read_csv(\"rating_data.csv\")\n",
        "\n",
        "# Calculate user similarity using cosine similarity\n",
        "user_similarity = cosine_similarity(data.values[:, 2:])\n",
        "\n",
        "# Select neighbors for the target user (e.g., user with index 0)\n",
        "target_user = 0\n",
        "neighbor_indices = user_similarity[target_user].argsort()[::-1][1:]\n",
        "\n",
        "# Generate recommendations based on the selected neighbors\n",
        "recommended_items = []\n",
        "for neighbor_index in neighbor_indices:\n",
        "    neighbor_ratings = data.values[neighbor_index, 2:]\n",
        "    target_user_ratings = data.values[target_user, 2:]\n",
        "\n",
        "    # Find items that the neighbor has rated highly but the target user has not\n",
        "    recommended_indices = [i for i, rating in enumerate(neighbor_ratings) if rating > 4 and target_user_ratings[i] == 0]\n",
        "\n",
        "    # Add the recommended items to the list\n",
        "    recommended_items.extend(data.values[target_user, recommended_indices])\n",
        "\n",
        "# Display the recommended items\n",
        "recommended_df = pd.DataFrame(recommended_items, columns=data.columns[2:])\n",
        "print(recommended_df)\n"
      ],
      "metadata": {
        "id": "8QKlkX0HzS_u"
      },
      "execution_count": null,
      "outputs": []
    },
    {
      "cell_type": "markdown",
      "source": [
        "## Collaborative Filtering"
      ],
      "metadata": {
        "id": "Y1Ex5vvizS_v"
      }
    },
    {
      "cell_type": "code",
      "source": [
        "import pandas as pd\n",
        "from sklearn.metrics.pairwise import cosine_similarity\n",
        "\n",
        "# Load the dataset into a pandas DataFrame\n",
        "data = pd.DataFrame({\n",
        "    'Id': [1, 2, 3],\n",
        "    'ProductId': ['B001E4KFG0', 'B00813GRG4', 'B000LQOCH0'],\n",
        "    'Score': [5, 1, 4],\n",
        "    'Summary': ['Good Quality Dog Food', 'Not as Advertised', '\"Delight\" says it all'],\n",
        "    'Text': ['I have bought several of the Vitality canned d...', 'Product arrived labeled as Jumbo Salted Peanut...', 'This is a confection that has been around a fe...']\n",
        "})\n",
        "\n",
        "# Create the user-item matrix\n",
        "user_item_matrix = data.pivot(index='Id', columns='ProductId', values='Score').fillna(0)\n",
        "\n",
        "# Calculate the user similarity matrix using cosine similarity\n",
        "user_similarity = cosine_similarity(user_item_matrix)\n",
        "\n",
        "# Select neighbors for the target user (e.g., user with index 0)\n",
        "target_user_index = 0\n",
        "neighbor_indices = user_similarity[target_user_index].argsort()[::-1][1:]\n",
        "\n",
        "# Generate recommendations based on the selected neighbors\n",
        "recommended_items = []\n",
        "for neighbor_index in neighbor_indices:\n",
        "    neighbor_ratings = user_item_matrix.loc[neighbor_index]\n",
        "    target_user_ratings = user_item_matrix.loc[target_user_index]\n",
        "\n",
        "    # Find items that the neighbor has rated highly but the target user has not\n",
        "    recommended_indices = [i for i, rating in enumerate(neighbor_ratings) if rating > 4 and target_user_ratings[i] == 0]\n",
        "\n",
        "    # Add the recommended items to the list\n",
        "    recommended_items.extend(user_item_matrix.columns[recommended_indices])\n",
        "\n",
        "# Display the recommended items\n",
        "recommended_df = data[data['ProductId'].isin(recommended_items)]\n",
        "print(recommended_df)\n"
      ],
      "metadata": {
        "id": "7abRsKR9zS_v"
      },
      "execution_count": null,
      "outputs": []
    }
  ]
}